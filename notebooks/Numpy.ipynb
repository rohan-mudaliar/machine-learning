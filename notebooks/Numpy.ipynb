{
 "cells": [
  {
   "cell_type": "markdown",
   "id": "retained-address",
   "metadata": {},
   "source": [
    "# NUMPY"
   ]
  },
  {
   "cell_type": "markdown",
   "id": "every-mailing",
   "metadata": {},
   "source": [
    "- Introduction\n",
    "- Installing NumPy\n",
    "- Data types in NumPy\n",
    "- Numpy arrays\n",
    "- Attributes of NumPy\n",
    "  - ndim\n",
    "  - Shape\n",
    "  - size\n",
    "  - Datatype\n",
    "  - Size\n",
    "- Creating a numpy array\n",
    "  - 2 ways.\n",
    "- Arrays with specific values\n",
    "- Arrays with random values\n",
    "- Arrays within a range\n",
    "- Load text file using loadtxt() and gentxt()\n",
    "- Resize an array\n",
    "- Reshape complex array\n",
    "- Reshape an array\n",
    "- Numpy Operations\n",
    "  -  indexing and array slicing\n",
    "  -  extract portion of the array\n",
    "- Multidimensional array\n",
    "- Flattening an array\n",
    "- Linear algebra on n-dimensional arrays\n",
    "- Mathematical operations \n",
    "  - Addition\n",
    "  - Subtraction\n",
    "  - Multiplication\n",
    "  - Dot product\n",
    "  - Division\n",
    "  - Modulus\n",
    "  - Exponents\n",
    "- Conditional operators\n",
    "- Mathematical and statistical functions:\n",
    "- Sum\n",
    "- Transpose\n",
    "- Broadcasting in NumPy"
   ]
  },
  {
   "cell_type": "markdown",
   "id": "blond-abuse",
   "metadata": {},
   "source": [
    "### Introduction"
   ]
  },
  {
   "cell_type": "markdown",
   "id": "sonic-brazil",
   "metadata": {},
   "source": [
    "What is NumPy?\n",
    "\n",
    "- NumPy is the fundamental package for scientific computing in Python.\n",
    "- Numpy arrays are faster than pythan lists as they consume less memoery and are easier to use.\n",
    "- It is a Python library that provides a multidimensional array object, various derived objects (such as masked arrays and matrices)\n",
    "- Used to perform fast operations on arrays.\n",
    "- Supports the below opearations.\n",
    "  - Mathematical\n",
    "  - Logical \n",
    "  - Shape manipulation\n",
    "  - Sorting\n",
    "  - Selecting\n",
    "  - I/O\n",
    "  - Discrete Fourier transforms\n",
    "  - Basic linear algebra\n",
    "  - Basic statistical operations\n",
    "  - Random simulation and much more."
   ]
  },
  {
   "cell_type": "markdown",
   "id": "tight-hindu",
   "metadata": {},
   "source": [
    "Basics\n",
    "\n",
    "- NumPy’s main object is the homogeneous multidimensional array. \n",
    "- It is a table of elements (usually numbers), all of the same type, indexed by a tuple of non-negative integers. \n",
    "- In NumPy dimensions are called axes."
   ]
  },
  {
   "cell_type": "markdown",
   "id": "productive-humanity",
   "metadata": {},
   "source": [
    "## Attributes of a numpy array:\n",
    "\n",
    "- Rank(ndarray.ndim): the number of axes (dimensions) of the array.\n",
    "\n",
    "- Shape(ndarray.shape): the dimensions of the array. This is a tuple of integers indicating the size of the array in each dimension. \n",
    "\n",
    "- Size(ndarray.size): the total number of elements of the array. This is equal to the product of the elements of shape.\n",
    "\n",
    "- Data Type(ndarray.dtype) :an object describing the type of the elements in the array.\n",
    "\n",
    "- Item size(ndarray.itemsize) : the size in bytes of each element of the array.\n",
    "\n",
    "- ndarray.data : the buffer containing the actual elements of the array. "
   ]
  },
  {
   "cell_type": "markdown",
   "id": "sitting-techno",
   "metadata": {},
   "source": [
    "### Data types in Numpy:\n",
    "\n",
    "https://numpy.org/doc/stable/user/basics.types.html"
   ]
  },
  {
   "cell_type": "markdown",
   "id": "empirical-latitude",
   "metadata": {},
   "source": [
    "Numpy needs python preinstalled.\n",
    "\n",
    "Numpy can be installed with conda or pip.\n",
    "\n",
    "conda:\n",
    "    # Best practice, use an environment rather than install in the base env\n",
    "    conda create -n my-env\n",
    "    conda activate my-env\n",
    "    # If you want to install from conda-forge\n",
    "    conda config --env --add channels conda-forge\n",
    "    # The actual install command\n",
    "    conda install numpy\n",
    "pip:\n",
    "    pip install numpy"
   ]
  },
  {
   "cell_type": "markdown",
   "id": "hairy-backup",
   "metadata": {},
   "source": [
    "Import numpy"
   ]
  },
  {
   "cell_type": "code",
   "execution_count": 1,
   "id": "otherwise-houston",
   "metadata": {},
   "outputs": [],
   "source": [
    "import numpy as np"
   ]
  },
  {
   "cell_type": "code",
   "execution_count": null,
   "id": "alike-abraham",
   "metadata": {},
   "outputs": [],
   "source": [
    "Quick example"
   ]
  },
  {
   "cell_type": "code",
   "execution_count": 2,
   "id": "instructional-click",
   "metadata": {},
   "outputs": [],
   "source": [
    "a = np.arange(6)"
   ]
  },
  {
   "cell_type": "code",
   "execution_count": 4,
   "id": "broke-negative",
   "metadata": {},
   "outputs": [
    {
     "name": "stdout",
     "output_type": "stream",
     "text": [
      "[0 1 2 3 4 5]\n"
     ]
    }
   ],
   "source": [
    "print(a)"
   ]
  },
  {
   "cell_type": "markdown",
   "id": "pretty-sydney",
   "metadata": {},
   "source": [
    "- Creating a numpy array:\n",
    "    - Creating a NumPy array by passing a Python list\n",
    "    - Creating NumPy array by passing a Python tuple\n",
    "    "
   ]
  },
  {
   "cell_type": "markdown",
   "id": "sunrise-liberty",
   "metadata": {},
   "source": [
    "### Creating a NumPy array by passing a Python list"
   ]
  },
  {
   "cell_type": "code",
   "execution_count": 6,
   "id": "aboriginal-paintball",
   "metadata": {},
   "outputs": [],
   "source": [
    "# Creating a NumPy array by passing a Python list\n",
    "import numpy as np\n",
    "test_list= [50, 12, 67, 23]\n",
    "my_np_arr=  np.array(test_list)"
   ]
  },
  {
   "cell_type": "code",
   "execution_count": 7,
   "id": "exposed-vietnamese",
   "metadata": {},
   "outputs": [
    {
     "name": "stdout",
     "output_type": "stream",
     "text": [
      "[50 12 67 23]\n"
     ]
    }
   ],
   "source": [
    "print(my_np_arr)"
   ]
  },
  {
   "cell_type": "markdown",
   "id": "mineral-crowd",
   "metadata": {},
   "source": [
    "### Creating NumPy array by passing a Python tuple"
   ]
  },
  {
   "cell_type": "code",
   "execution_count": 8,
   "id": "ambient-gibraltar",
   "metadata": {},
   "outputs": [],
   "source": [
    "import numpy as np\n",
    "my_tuple = (88, 17, 45, 76)\n",
    "my_tuple_arr = np.array(my_tuple)"
   ]
  },
  {
   "cell_type": "code",
   "execution_count": 9,
   "id": "certified-mechanics",
   "metadata": {},
   "outputs": [
    {
     "name": "stdout",
     "output_type": "stream",
     "text": [
      "[88 17 45 76]\n"
     ]
    }
   ],
   "source": [
    "print(my_tuple_arr)"
   ]
  },
  {
   "cell_type": "markdown",
   "id": "coral-cabin",
   "metadata": {},
   "source": [
    "### Special cases"
   ]
  },
  {
   "cell_type": "code",
   "execution_count": 10,
   "id": "straight-anniversary",
   "metadata": {},
   "outputs": [
    {
     "name": "stdout",
     "output_type": "stream",
     "text": [
      "[[0 0 0 0]\n",
      " [0 0 0 0]\n",
      " [0 0 0 0]]\n"
     ]
    }
   ],
   "source": [
    "# create array of zeros\n",
    "import numpy as np\n",
    "tupple = (3,4)\n",
    "my_zero_array = np.zeros(tupple, dtype=np.int16)\n",
    "print(my_zero_array)"
   ]
  },
  {
   "cell_type": "code",
   "execution_count": 11,
   "id": "minus-message",
   "metadata": {},
   "outputs": [
    {
     "name": "stdout",
     "output_type": "stream",
     "text": [
      "[[1 1 1 1]\n",
      " [1 1 1 1]\n",
      " [1 1 1 1]]\n"
     ]
    }
   ],
   "source": [
    "# create array of ones\n",
    "import numpy as np\n",
    "tupple = (3,4)\n",
    "my_ones_array = np.ones(tupple, dtype=np.int16)\n",
    "print(my_ones_array)"
   ]
  },
  {
   "cell_type": "code",
   "execution_count": 13,
   "id": "dutch-vector",
   "metadata": {},
   "outputs": [
    {
     "name": "stdout",
     "output_type": "stream",
     "text": [
      "[[6 6 6 6]\n",
      " [6 6 6 6]\n",
      " [6 6 6 6]]\n"
     ]
    }
   ],
   "source": [
    "# create array with specific values\n",
    "import numpy as np\n",
    "tupple = (3,4)\n",
    "my_six_array = np.full(tupple,6, dtype=np.int16)\n",
    "print(my_six_array)"
   ]
  },
  {
   "cell_type": "code",
   "execution_count": 15,
   "id": "intermediate-facility",
   "metadata": {},
   "outputs": [
    {
     "name": "stdout",
     "output_type": "stream",
     "text": [
      "[[1 0 0 0]\n",
      " [0 1 0 0]\n",
      " [0 0 1 0]\n",
      " [0 0 0 1]]\n"
     ]
    }
   ],
   "source": [
    "#create identify matrix or array, below creates an identify matrix or 4*4\n",
    "import numpy as np\n",
    "my_identity_array = np.identity(4, dtype=np.int16)\n",
    "print(my_identity_array)"
   ]
  },
  {
   "cell_type": "code",
   "execution_count": 18,
   "id": "innocent-credits",
   "metadata": {},
   "outputs": [
    {
     "name": "stdout",
     "output_type": "stream",
     "text": [
      "[[0.25242074 0.71611876 0.05881364 0.50431457]\n",
      " [0.74171015 0.38333655 0.14169848 0.12490287]\n",
      " [0.57940354 0.42254173 0.23911349 0.66260453]]\n"
     ]
    }
   ],
   "source": [
    "# create array with random values. The below NumPy array will have random float values between 0.0 and 1.0\n",
    "import numpy as np\n",
    "my_random_arr = np.random.random((3, 4))\n",
    "print(my_random_arr)"
   ]
  },
  {
   "cell_type": "code",
   "execution_count": 19,
   "id": "prostate-reflection",
   "metadata": {},
   "outputs": [],
   "source": [
    "# create empty with random values\n",
    "tup = (3, 4)\n",
    "my_uninitialized_array = np.empty(tup)"
   ]
  },
  {
   "cell_type": "code",
   "execution_count": 20,
   "id": "increased-burning",
   "metadata": {},
   "outputs": [
    {
     "data": {
      "text/plain": [
       "array([[0.25242074, 0.71611876, 0.05881364, 0.50431457],\n",
       "       [0.74171015, 0.38333655, 0.14169848, 0.12490287],\n",
       "       [0.57940354, 0.42254173, 0.23911349, 0.66260453]])"
      ]
     },
     "execution_count": 20,
     "metadata": {},
     "output_type": "execute_result"
    }
   ],
   "source": [
    "my_uninitialized_array"
   ]
  },
  {
   "cell_type": "code",
   "execution_count": null,
   "id": "extended-three",
   "metadata": {},
   "outputs": [],
   "source": [
    "#check empty vs random"
   ]
  },
  {
   "cell_type": "markdown",
   "id": "induced-backing",
   "metadata": {},
   "source": [
    "### arrays within specific range\n",
    "\n",
    "- By passing a range of values (using arange() function of NumPy)\n",
    "    np.arange(start val,end val,gap between each value)\n",
    "- By passing an equally spaced range of values (using linspace() function of NumPy)\n",
    "    np.linspace(start val, end val, nf of values needed)"
   ]
  },
  {
   "cell_type": "code",
   "execution_count": 21,
   "id": "extended-asbestos",
   "metadata": {},
   "outputs": [
    {
     "name": "stdout",
     "output_type": "stream",
     "text": [
      "[10 15 20 25 30 35 40 45]\n"
     ]
    }
   ],
   "source": [
    "# By passing a range of values (using arange() function of NumPy)\n",
    "range_array = np.arange(10,50,5)\n",
    "print(range_array)"
   ]
  },
  {
   "cell_type": "code",
   "execution_count": 22,
   "id": "peaceful-nerve",
   "metadata": {},
   "outputs": [
    {
     "name": "stdout",
     "output_type": "stream",
     "text": [
      "[10. 20. 30. 40. 50.]\n"
     ]
    }
   ],
   "source": [
    "# By passing an equally spaced range of values (using linspace() function of NumPy)\n",
    "spaced_array = np.linspace(10,50,5)\n",
    "print(spaced_array)"
   ]
  },
  {
   "cell_type": "markdown",
   "id": "nasty-beatles",
   "metadata": {},
   "source": [
    "## Load text file using loadtxt() and gentxt()"
   ]
  },
  {
   "cell_type": "markdown",
   "id": "welcome-convertible",
   "metadata": {},
   "source": [
    "There are two ways to load text from a file in NUMPY:\n",
    "    \n",
    "- using loadtxt() - does not handle missing values\n",
    "- using gentxt() - handles missing value kind of scenarios"
   ]
  },
  {
   "cell_type": "markdown",
   "id": "blond-experience",
   "metadata": {},
   "source": [
    "## Resize an array\n",
    "\n",
    "- resize() function used. \n",
    "- Can be used to crate a new array of different size and dimensions\n",
    "- Can be used to create a larger array of different size.\n",
    "\n",
    "Syntax:\n",
    "\n",
    "ndarray.resize(new_shape, refcheck=True)"
   ]
  },
  {
   "cell_type": "code",
   "execution_count": null,
   "id": "short-banana",
   "metadata": {},
   "outputs": [],
   "source": [
    "#Example\n",
    "\n",
    "import numpy as np\n",
    "\n",
    "my_arr = np.array([ [0,1], [2,3] ])\n",
    "\n",
    "my_arr.resize( (2, 3) )"
   ]
  },
  {
   "cell_type": "markdown",
   "id": "vanilla-mention",
   "metadata": {},
   "source": [
    "- Reshape an array\n",
    "\n",
    "- reshape() function used.\n",
    "- creates a new array of same size but odf diffent dimensions\n",
    "- cannot be used to convert original array to bigger array.\n",
    "\n",
    "Syntax:\n",
    "\n",
    "ndarray.reshape(new_shape)"
   ]
  },
  {
   "cell_type": "code",
   "execution_count": null,
   "id": "adverse-congo",
   "metadata": {},
   "outputs": [],
   "source": [
    "## We know desired number of dimensions\n",
    "\n",
    "my_arr = np.arange(6)\n",
    "# we want to reshape this to 2*3 array\n",
    "my_new_arr = my_arr.reshape(2,3)"
   ]
  },
  {
   "cell_type": "code",
   "execution_count": null,
   "id": "changing-chapter",
   "metadata": {},
   "outputs": [],
   "source": [
    "## We know number of columns but not number of rows\n",
    "\n",
    "my_arr = np.arange(9)\n",
    "# we know our array will have 3 columns but not sure of the number of rows\n",
    "my_new_arr = my_arr.reshape(-1,3)"
   ]
  },
  {
   "cell_type": "markdown",
   "id": "compatible-egypt",
   "metadata": {},
   "source": [
    "Reshape vs Resize\n",
    "\n",
    "reshape used when we want to change dimensions of an array ubut with same number of elements\n",
    "resize used when we need a larger array than orignal array"
   ]
  },
  {
   "cell_type": "markdown",
   "id": "excess-performance",
   "metadata": {},
   "source": [
    "- Numpy Operations\n",
    " \n"
   ]
  },
  {
   "cell_type": "markdown",
   "id": "arbitrary-representation",
   "metadata": {},
   "source": [
    " -  indexing and array slicing\n",
    "# Index of a numpy array starts with 0 similar to python\n"
   ]
  },
  {
   "cell_type": "code",
   "execution_count": null,
   "id": "precious-lithuania",
   "metadata": {},
   "outputs": [],
   "source": [
    "import numpy as np\n",
    "arr = np.array([1, 10, 31, 2, 18, 9, 22])\n",
    "#print 2nd element\n",
    "print(arr[1])\n",
    "\n",
    "#print element 1 to 5\n",
    "\n",
    "print(arr[1:6])\n",
    "\n",
    "#exract element with a gap of 2\n",
    "\n",
    "print(arr[1: :2])\n",
    "\n",
    "#reverse an array\n",
    "\n",
    "print(arr[: : -1])"
   ]
  },
  {
   "cell_type": "markdown",
   "id": "offshore-suite",
   "metadata": {},
   "source": [
    "  -  extract portion of the array"
   ]
  },
  {
   "cell_type": "code",
   "execution_count": null,
   "id": "fiscal-withdrawal",
   "metadata": {},
   "outputs": [],
   "source": [
    "#creating a slice\n",
    "new_slice = arr[1:4]\n",
    "new_slice[1]= 4\n",
    "\n",
    "#the above also affects the original array value arr.\n",
    "\n",
    "#To avoid this, to create a slice, copy an array using copy()\n",
    "\n",
    "latest_slice = arr[1:4].copy()"
   ]
  },
  {
   "cell_type": "markdown",
   "id": "static-proportion",
   "metadata": {},
   "source": [
    "- Multidimensional array\n",
    "\n",
    "Syntax: array[ row_start_index : row_end_index, column_start_index : column_end_index]\n",
    "\n",
    "- multi_arr[1, 2]      -  to access value at row 1 and column 2\n",
    "- multi_arr[1, :]      -  to access value at row 1 and all columns\n",
    "- multi_arr[:, 1]      -  to access value at all rows and column 1"
   ]
  },
  {
   "cell_type": "code",
   "execution_count": null,
   "id": "relative-advocacy",
   "metadata": {},
   "outputs": [],
   "source": []
  },
  {
   "cell_type": "markdown",
   "id": "durable-packaging",
   "metadata": {},
   "source": [
    "- Flattening an array\n",
    "\n",
    "Flattening an array is the process of converting an n-d array to a 1-d array.\n",
    "\n",
    "Done as some python libraries require 1 d array as input.\n",
    "\n",
    "function  ravel() used"
   ]
  },
  {
   "cell_type": "code",
   "execution_count": null,
   "id": "quick-short",
   "metadata": {},
   "outputs": [],
   "source": [
    "#create an array of dimension 4*%\n",
    "my_2d_arr = np.arange(20).reshape((4,5))\n",
    "\n",
    "#flatten array to 1D array\n",
    "myarr = my_2d_arr.ravel()"
   ]
  },
  {
   "cell_type": "markdown",
   "id": "technical-representation",
   "metadata": {},
   "source": [
    "- Mathematical operations \n",
    "  - Addition : addition is element wise\n",
    "  - Subtraction : subtraction is element wise\n",
    "  - Multiplication : multiplicaiton is element wise and rpresented by *\n",
    "  - Dot product : represnted by . Not element wise\n",
    "  - Division : element wise and represented by /\n",
    "  - Modulus : elementwise and rpresented by %\n",
    "  - Exponents : elementwise. Represnted by **"
   ]
  },
  {
   "cell_type": "code",
   "execution_count": null,
   "id": "instrumental-avatar",
   "metadata": {},
   "outputs": [],
   "source": [
    "#Additon and subtraction\n",
    "import numpy as np\n",
    "a = np.array([ 20, 30, 40, 50])\n",
    "b = np.arange(4)\n",
    "sum_arr = a+b\n",
    "diff_arr= a-b"
   ]
  },
  {
   "cell_type": "code",
   "execution_count": null,
   "id": "charitable-accent",
   "metadata": {},
   "outputs": [],
   "source": [
    "#Multiplication and Dot product\n",
    "\n",
    "import numpy as np\n",
    "A = np.array( [ [ 1,1], [0, 1] ] )\n",
    "B = np.array( [ [2, 0], [3, 4] ] )\n",
    "M = A*B\n",
    "D= A.B"
   ]
  },
  {
   "cell_type": "code",
   "execution_count": null,
   "id": "offshore-fitness",
   "metadata": {},
   "outputs": [],
   "source": [
    "#Division, modulus and exponent\n",
    "\n",
    "import numpy as np\n",
    "R = np.array( [ 20, 30, 40, 50] )\n",
    "S = np.arange( 1, 5 )\n",
    "\n",
    "D = R/S\n",
    "M = R%S\n",
    "Exp = R ** S"
   ]
  },
  {
   "cell_type": "code",
   "execution_count": null,
   "id": "cutting-sunglasses",
   "metadata": {},
   "outputs": [],
   "source": [
    "import numpy as np\n",
    "m = np.array( [ 20, -5, 30, 40] )\n",
    "\n",
    "m < [15, 16, 35, 36]"
   ]
  },
  {
   "cell_type": "markdown",
   "id": "alternative-outline",
   "metadata": {},
   "source": [
    "- Conditional operators\n",
    "\n",
    "Operators like >, <,>=,<= can be used"
   ]
  },
  {
   "cell_type": "code",
   "execution_count": null,
   "id": "minor-outside",
   "metadata": {},
   "outputs": [],
   "source": []
  },
  {
   "cell_type": "markdown",
   "id": "legal-semester",
   "metadata": {},
   "source": [
    "- Mathematical and statistical functions:\n",
    "    \n",
    "Below functions are available:\n",
    "    \n",
    "mean()  - used to find mean of an array\n",
    "var() - used to find varience of an array\n",
    "std() -  used to find standard deviation of an array\n",
    "min() - used to find minimum element of an array\n",
    "max() - used to find maximum element of an array\n",
    "sum() - used to find sum of elements of an array. Can also be done across each axis or total array\n",
    "prod() - used to find product of elements of an array"
   ]
  },
  {
   "cell_type": "code",
   "execution_count": null,
   "id": "animated-welsh",
   "metadata": {},
   "outputs": [],
   "source": [
    "X = np.array( [ [-2.5, 3.1, 7],\n",
    "                [10, 11, 12] ] )\n",
    "mean = X.mean()\n",
    "varience = X.var(r)\n",
    "std_dev = X.std()\n",
    "min_ele = X.min()\n",
    "max_ele = X.max()\n",
    "product = X.prod()\n"
   ]
  },
  {
   "cell_type": "code",
   "execution_count": null,
   "id": "prepared-decade",
   "metadata": {},
   "outputs": [],
   "source": [
    "big_arr = array( [ [ [ 0, 1, 2, 3],\n",
    "           [ 4, 5, 6, 7],\n",
    "           [ 8, 9, 10, 11] ],\n",
    "\n",
    "         [ [ 12, 13, 14 15],\n",
    "           [ 16, 17, 18, 19],\n",
    "           [ 20, 21, 22, 23] ] ] )\n",
    "\n",
    "#total sum\n",
    "sum_val = big_arr.sum()\n",
    "\n",
    "#sum across axis 0 \n",
    "zero_axis_sum = big_arr.sum(axis=0)\n",
    "\n",
    "#sum across axis 1 \n",
    "first_axis_sum = big_arr.sum(axis=0)"
   ]
  },
  {
   "cell_type": "markdown",
   "id": "dirty-myrtle",
   "metadata": {},
   "source": [
    "- Transpose\n",
    "\n",
    "Interchange the rows and columns of a matrix"
   ]
  },
  {
   "cell_type": "code",
   "execution_count": null,
   "id": "correct-violence",
   "metadata": {},
   "outputs": [],
   "source": [
    "M = np.arange(6).reshape(2, 3)\n",
    "print(\"array is \" M)\n",
    "print(\"Transpose = \", M.T)"
   ]
  },
  {
   "cell_type": "markdown",
   "id": "alien-organ",
   "metadata": {},
   "source": [
    "- Broadcasting in NumPy"
   ]
  },
  {
   "cell_type": "markdown",
   "id": "furnished-responsibility",
   "metadata": {},
   "source": [
    "Broadcasting is a conecept used in mathematical operations of numpy arrays.\n",
    "\n",
    "Broadcasting, generally, tries to adjust the shape of one or both of the arrays to bring them to required matching shape, by copying the existing elements required number of times, so that the mathematical operation could be performed between the two NumPy arrays."
   ]
  },
  {
   "cell_type": "markdown",
   "id": "exotic-damages",
   "metadata": {},
   "source": [
    "## Rules\n",
    "\n",
    "- If the arrays don’t have the same rank then prepend the shape of the lower rank array with 1s until both shapes have the same length.\n",
    "- The two arrays are compatible in a dimension if they have the same size in the dimension or if one of the arrays has size 1 in that dimension.\n",
    "- The arrays can be broadcast together if they are compatible with all dimensions.\n",
    "- After broadcasting, each array behaves as if it had shape equal to the element-wise maximum of shapes of the two input arrays.\n",
    "- In any dimension where one array had size 1 and the other array had size greater than 1, the first array behaves as if it were copied along that dimension."
   ]
  },
  {
   "cell_type": "code",
   "execution_count": null,
   "id": "killing-gasoline",
   "metadata": {},
   "outputs": [],
   "source": []
  },
  {
   "cell_type": "code",
   "execution_count": null,
   "id": "collectible-conference",
   "metadata": {},
   "outputs": [],
   "source": []
  }
 ],
 "metadata": {
  "kernelspec": {
   "display_name": "Python 3",
   "language": "python",
   "name": "python3"
  },
  "language_info": {
   "codemirror_mode": {
    "name": "ipython",
    "version": 3
   },
   "file_extension": ".py",
   "mimetype": "text/x-python",
   "name": "python",
   "nbconvert_exporter": "python",
   "pygments_lexer": "ipython3",
   "version": "3.8.5"
  }
 },
 "nbformat": 4,
 "nbformat_minor": 5
}
