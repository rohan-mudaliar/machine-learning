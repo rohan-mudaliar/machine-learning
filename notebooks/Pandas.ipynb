{
 "cells": [
  {
   "cell_type": "markdown",
   "id": "optional-blair",
   "metadata": {},
   "source": [
    "-- Introduction\n",
    "-- Things you can do with pandas\n",
    "-- Installation\n",
    "-- Data structures in pandas\n",
    "-- Creating a dataframe from csv,excel and json\n",
    "-- Selecting data\n",
    "-- Adding columns to an existing dataframe\n",
    "-- Creating histograms"
   ]
  }
 ],
 "metadata": {
  "kernelspec": {
   "display_name": "Python 3",
   "language": "python",
   "name": "python3"
  },
  "language_info": {
   "codemirror_mode": {
    "name": "ipython",
    "version": 3
   },
   "file_extension": ".py",
   "mimetype": "text/x-python",
   "name": "python",
   "nbconvert_exporter": "python",
   "pygments_lexer": "ipython3",
   "version": "3.8.5"
  }
 },
 "nbformat": 4,
 "nbformat_minor": 5
}
